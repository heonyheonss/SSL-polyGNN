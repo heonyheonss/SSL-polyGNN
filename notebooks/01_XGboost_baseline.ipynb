{
 "cells": [
  {
   "metadata": {
    "ExecuteTime": {
     "end_time": "2025-09-06T07:24:30.251143Z",
     "start_time": "2025-09-06T07:21:40.316755Z"
    }
   },
   "cell_type": "code",
   "source": [
    "from myutility import descriptor_selection\n",
    "\n",
    "descriptor_selection"
   ],
   "id": "246e1a3bf057611d",
   "outputs": [
    {
     "name": "stdout",
     "output_type": "stream",
     "text": [
      "===== 'Tg' 예측을 위한 상위 20개 디스크립터 =====\n",
      "FractionCSP3         0.402691\n",
      "SlogP_VSA8           0.143457\n",
      "VSA_EState7          0.034622\n",
      "VSA_EState4          0.022283\n",
      "VSA_EState1          0.021426\n",
      "fr_unbrch_alkane     0.018064\n",
      "NumRotatableBonds    0.016869\n",
      "VSA_EState8          0.015656\n",
      "Kappa3               0.010463\n",
      "FpDensityMorgan3     0.010316\n",
      "BalabanJ             0.010027\n",
      "MinAbsEStateIndex    0.009170\n",
      "VSA_EState5          0.008839\n",
      "EState_VSA8          0.008552\n",
      "EState_VSA2          0.008346\n",
      "qed                  0.008262\n",
      "SlogP_VSA1           0.008129\n",
      "SMR_VSA10            0.007472\n",
      "MolLogP              0.007413\n",
      "SlogP_VSA10          0.007362\n",
      "dtype: float64\n",
      "\n",
      "피처 중요도 그래프가 'feature_importance_Tg.png'으로 저장되었습니다.\n"
     ]
    },
    {
     "data": {
      "text/plain": [
       "<module 'myutility.descriptor_selection' from 'E:\\\\SSL-polyGNN\\\\myutility\\\\descriptor_selection.py'>"
      ]
     },
     "execution_count": 2,
     "metadata": {},
     "output_type": "execute_result"
    }
   ],
   "execution_count": 2
  },
  {
   "metadata": {
    "ExecuteTime": {
     "end_time": "2025-09-06T06:45:00.498972Z",
     "start_time": "2025-09-06T06:44:59.144862Z"
    }
   },
   "cell_type": "code",
   "outputs": [
    {
     "name": "stdout",
     "output_type": "stream",
     "text": [
      "상관관계 쌍 발견: ('MinPartialCharge', 'BCUT2D_LOGPLOW'), 상관계수: 1.00\n",
      " -> 'BCUT2D_LOGPLOW' 제거 (평균 상관계수 더 높음: 0.16 > 0.16)\n",
      "\n",
      "상관관계 쌍 발견: ('Kappa3', 'Kappa1'), 상관계수: 0.99\n",
      " -> 'Kappa3' 제거 (평균 상관계수 더 높음: 0.16 > 0.16)\n",
      "\n",
      "==================================================\n",
      "제거될 디스크립터:\n",
      "['Kappa3', 'BCUT2D_LOGPLOW']\n",
      "\n",
      "최종 선택된 디스크립터:\n",
      "['MinPartialCharge', 'EState_VSA8', 'MaxEStateIndex', 'MinAbsPartialCharge', 'FractionCSP3', 'Kappa1', 'SMR_VSA7', 'BCUT2D_MRHI', 'HeavyAtomCount', 'TPSA', 'FpDensityMorgan2', 'HallKierAlpha', 'SMR_VSA5', 'MinEStateIndex', 'NumHeteroatoms', 'HeavyAtomMolWt', 'BCUT2D_CHGLO', 'SlogP_VSA5']\n",
      "\n",
      "총 20개에서 2개가 제거되어 18개가 선택되었습니다.\n"
     ]
    }
   ],
   "execution_count": 1,
   "source": [
    "import pandas as pd\n",
    "import numpy as np\n",
    "from sklearn.ensemble import RandomForestRegressor\n",
    "from sklearn.experimental import enable_iterative_imputer\n",
    "from sklearn.impute import IterativeImputer\n",
    "\n",
    "# --- 이전 단계들이 완료되었다고 가정합니다 ---\n",
    "# 1. 원본 데이터프레임 (df_final)\n",
    "# 2. 모든 디스크립터가 계산된 데이터프레임 (df_descriptors)\n",
    "# 3. 최종 선택된 디스크립터 리스트 (final_features)\n",
    "\n",
    "# 예시 데이터 생성 (실제로는 이 코드가 필요 없습니다)\n",
    "smiles_list = ['CCO', 'CCC', 'c1ccccc1', 'CNC', 'CC(=O)O', 'CCN(CC)CC']\n",
    "df_final = pd.DataFrame({\n",
    "    'SMILES': smiles_list * 10,\n",
    "    'Tg': np.random.rand(60) * 100 + 300,\n",
    "    'Tc': np.random.rand(60) * 50 + 500,\n",
    "})\n",
    "df_final.loc[::3, 'Tg'] = np.nan # Tg에 일부러 결측치 생성\n",
    "df_final.loc[::4, 'Tc'] = np.nan # Tc에 일부러 결측치 생성\n",
    "\n",
    "# 예시 디스크립터와 최종 피처 리스트\n",
    "final_features = ['HeavyAtomCount', 'TPSA', 'FpDensityMorgan2', 'HallKierAlpha']\n",
    "df_descriptors = pd.DataFrame(np.random.rand(60, len(final_features)), columns=final_features)\n",
    "\n",
    "#-----------------------------------------------------------\n",
    "\n",
    "# 1. Imputation에 사용할 데이터 준비\n",
    "#    물성치와 최종 선택된 디스크립터를 하나의 데이터프레임으로 합칩니다.\n",
    "properties_to_impute = ['Tg', 'Tc'] # 결측치를 채울 물성치 컬럼들\n",
    "data_for_imputation = pd.concat([df_final[properties_to_impute], df_descriptors[final_features]], axis=1)\n",
    "\n",
    "print(\"===== Imputation 이전 결측치 개수 =====\")\n",
    "print(data_for_imputation.isnull().sum())\n",
    "\n",
    "# 2. Imputer 초기화\n",
    "#    예측 모델로 RandomForestRegressor를 사용합니다.\n",
    "#    n_estimators는 예시를 위해 작게 설정했으며, 실제로는 50~100 정도를 사용해도 좋습니다.\n",
    "imputer = IterativeImputer(\n",
    "    estimator=RandomForestRegressor(n_estimators=10, random_state=42),\n",
    "    max_iter=5,       # 반복 횟수\n",
    "    random_state=42\n",
    ")\n",
    "\n",
    "# 3. Imputation 실행 (Fit and Transform)\n",
    "#    이 과정은 다소 시간이 소요될 수 있습니다.\n",
    "print(\"\\nImputation을 시작합니다...\")\n",
    "imputed_data_np = imputer.fit_transform(data_for_imputation)\n",
    "print(\"Imputation 완료!\")\n",
    "\n",
    "# 4. 결과를 다시 DataFrame으로 변환\n",
    "df_imputed_subset = pd.DataFrame(imputed_data_np, columns=data_for_imputation.columns)\n",
    "\n",
    "# 5. 원본 데이터프레임 업데이트\n",
    "df_imputed = df_final.copy()\n",
    "for col in properties_to_impute:\n",
    "    df_imputed[col] = df_imputed_subset[col]\n",
    "\n",
    "print(\"\\n===== Imputation 이후 결측치 개수 =====\")\n",
    "print(df_imputed.isnull().sum())\n",
    "\n",
    "print(\"\\n===== Imputation 결과 (상위 5개 행) =====\")\n",
    "print(df_imputed.head())"
   ],
   "id": "e6ff2df88383986d"
  },
  {
   "metadata": {
    "ExecuteTime": {
     "end_time": "2025-09-06T06:47:31.845850Z",
     "start_time": "2025-09-06T06:47:31.840405Z"
    }
   },
   "cell_type": "code",
   "source": "",
   "id": "fb9b7378a260e01a",
   "outputs": [
    {
     "name": "stdout",
     "output_type": "stream",
     "text": [
      "['MinPartialCharge', 'EState_VSA8', 'MaxEStateIndex', 'MinAbsPartialCharge', 'FractionCSP3', 'Kappa1', 'SMR_VSA7', 'BCUT2D_MRHI', 'HeavyAtomCount', 'TPSA', 'FpDensityMorgan2', 'HallKierAlpha', 'SMR_VSA5', 'MinEStateIndex', 'NumHeteroatoms', 'HeavyAtomMolWt', 'BCUT2D_CHGLO', 'SlogP_VSA5']\n"
     ]
    }
   ],
   "execution_count": 2
  }
 ],
 "metadata": {
  "kernelspec": {
   "display_name": "Python 3",
   "language": "python",
   "name": "python3"
  },
  "language_info": {
   "codemirror_mode": {
    "name": "ipython",
    "version": 2
   },
   "file_extension": ".py",
   "mimetype": "text/x-python",
   "name": "python",
   "nbconvert_exporter": "python",
   "pygments_lexer": "ipython2",
   "version": "2.7.6"
  }
 },
 "nbformat": 4,
 "nbformat_minor": 5
}
