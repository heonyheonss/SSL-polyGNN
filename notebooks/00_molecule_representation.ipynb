{
 "cells": [
  {
   "cell_type": "code",
   "id": "initial_id",
   "metadata": {
    "collapsed": true,
    "ExecuteTime": {
     "end_time": "2025-09-04T08:43:51.072272Z",
     "start_time": "2025-09-04T08:43:49.298889Z"
    }
   },
   "source": [
    "import yaml\n",
    "import pandas as pd\n",
    "\n",
    "with open(\"../configs/default.yaml\", 'r', encoding=\"utf-8\") as f:\n",
    "    config = yaml.safe_load(f)\n",
    "    train_path = config[\"data\"][\"train_path\"]\n",
    "    df = pd.read_csv(train_path)\n",
    "\n",
    "df.info()"
   ],
   "outputs": [
    {
     "name": "stdout",
     "output_type": "stream",
     "text": [
      "<class 'pandas.core.frame.DataFrame'>\n",
      "RangeIndex: 10343 entries, 0 to 10342\n",
      "Data columns (total 7 columns):\n",
      " #   Column   Non-Null Count  Dtype  \n",
      "---  ------   --------------  -----  \n",
      " 0   SMILES   10343 non-null  object \n",
      " 1   id       7973 non-null   float64\n",
      " 2   Tg       557 non-null    float64\n",
      " 3   FFV      7892 non-null   float64\n",
      " 4   Tc       866 non-null    float64\n",
      " 5   Density  613 non-null    float64\n",
      " 6   Rg       614 non-null    float64\n",
      "dtypes: float64(6), object(1)\n",
      "memory usage: 565.8+ KB\n"
     ]
    }
   ],
   "execution_count": 1
  },
  {
   "metadata": {
    "ExecuteTime": {
     "end_time": "2025-09-04T08:44:28.739697Z",
     "start_time": "2025-09-04T08:44:28.238125Z"
    }
   },
   "cell_type": "code",
   "source": [
    "import rdkit\n",
    "from rdkit import Chem\n",
    "\n",
    "smiles = df[\"SMILES\"][0]\n",
    "\n",
    "mol = Chem.MolFromSmiles(smiles)\n",
    "\n",
    "print(\"--- ⚛️ 아스피린의 원자(Node) 피처 ---\")\n",
    "for atom in mol.GetAtoms():\n",
    "    print(f\"[{atom.GetIdx()}] 원자: {atom.GetSymbol()},\",\n",
    "          f\"차수: {atom.GetDegree()},\",\n",
    "          f\"형식전하: {atom.GetFormalCharge()},\",\n",
    "          f\"혼성: {atom.GetHybridization()},\",\n",
    "          f\"방향족 여부: {atom.GetIsAromatic()},\",\n",
    "          f\"수소 수: {atom.GetTotalNumHs()}\")\n",
    "\n",
    "print(\"\\n--- 🔗 아스피린의 결합(Edge) 피처 ---\")\n",
    "for bond in mol.GetBonds():\n",
    "    print(f\"[{bond.GetBeginAtomIdx()}-{bond.GetEndAtomIdx()}] 결합:\",\n",
    "          f\"종류: {bond.GetBondType()},\",\n",
    "          f\"컨쥬게이션: {bond.GetIsConjugated()},\",\n",
    "          f\"고리 여부: {bond.IsInRing()}\")"
   ],
   "id": "646797e1052d9a61",
   "outputs": [
    {
     "name": "stdout",
     "output_type": "stream",
     "text": [
      "--- ⚛️ 아스피린의 원자(Node) 피처 ---\n",
      "[0] 원자: *, 차수: 1, 형식전하: 0, 혼성: UNSPECIFIED, 방향족 여부: False, 수소 수: 0\n",
      "[1] 원자: C, 차수: 3, 형식전하: 0, 혼성: SP2, 방향족 여부: False, 수소 수: 0\n",
      "[2] 원자: C, 차수: 3, 형식전하: 0, 혼성: SP2, 방향족 여부: False, 수소 수: 0\n",
      "[3] 원자: *, 차수: 1, 형식전하: 0, 혼성: UNSPECIFIED, 방향족 여부: False, 수소 수: 0\n",
      "[4] 원자: C, 차수: 3, 형식전하: 0, 혼성: SP2, 방향족 여부: True, 수소 수: 0\n",
      "[5] 원자: C, 차수: 2, 형식전하: 0, 혼성: SP2, 방향족 여부: True, 수소 수: 1\n",
      "[6] 원자: C, 차수: 2, 형식전하: 0, 혼성: SP2, 방향족 여부: True, 수소 수: 1\n",
      "[7] 원자: C, 차수: 3, 형식전하: 0, 혼성: SP2, 방향족 여부: True, 수소 수: 0\n",
      "[8] 원자: C, 차수: 4, 형식전하: 0, 혼성: SP3, 방향족 여부: False, 수소 수: 0\n",
      "[9] 원자: C, 차수: 1, 형식전하: 0, 혼성: SP3, 방향족 여부: False, 수소 수: 3\n",
      "[10] 원자: C, 차수: 1, 형식전하: 0, 혼성: SP3, 방향족 여부: False, 수소 수: 3\n",
      "[11] 원자: C, 차수: 1, 형식전하: 0, 혼성: SP3, 방향족 여부: False, 수소 수: 3\n",
      "[12] 원자: C, 차수: 2, 형식전하: 0, 혼성: SP2, 방향족 여부: True, 수소 수: 1\n",
      "[13] 원자: C, 차수: 2, 형식전하: 0, 혼성: SP2, 방향족 여부: True, 수소 수: 1\n",
      "[14] 원자: C, 차수: 3, 형식전하: 0, 혼성: SP2, 방향족 여부: True, 수소 수: 0\n",
      "[15] 원자: C, 차수: 2, 형식전하: 0, 혼성: SP2, 방향족 여부: True, 수소 수: 1\n",
      "[16] 원자: C, 차수: 2, 형식전하: 0, 혼성: SP2, 방향족 여부: True, 수소 수: 1\n",
      "[17] 원자: C, 차수: 2, 형식전하: 0, 혼성: SP2, 방향족 여부: True, 수소 수: 1\n",
      "[18] 원자: C, 차수: 2, 형식전하: 0, 혼성: SP2, 방향족 여부: True, 수소 수: 1\n",
      "[19] 원자: C, 차수: 2, 형식전하: 0, 혼성: SP2, 방향족 여부: True, 수소 수: 1\n",
      "\n",
      "--- 🔗 아스피린의 결합(Edge) 피처 ---\n",
      "[0-1] 결합: 종류: SINGLE, 컨쥬게이션: False, 고리 여부: False\n",
      "[1-2] 결합: 종류: DOUBLE, 컨쥬게이션: True, 고리 여부: False\n",
      "[2-3] 결합: 종류: SINGLE, 컨쥬게이션: False, 고리 여부: False\n",
      "[2-4] 결합: 종류: SINGLE, 컨쥬게이션: True, 고리 여부: False\n",
      "[4-5] 결합: 종류: AROMATIC, 컨쥬게이션: True, 고리 여부: True\n",
      "[5-6] 결합: 종류: AROMATIC, 컨쥬게이션: True, 고리 여부: True\n",
      "[6-7] 결합: 종류: AROMATIC, 컨쥬게이션: True, 고리 여부: True\n",
      "[7-8] 결합: 종류: SINGLE, 컨쥬게이션: False, 고리 여부: False\n",
      "[8-9] 결합: 종류: SINGLE, 컨쥬게이션: False, 고리 여부: False\n",
      "[8-10] 결합: 종류: SINGLE, 컨쥬게이션: False, 고리 여부: False\n",
      "[8-11] 결합: 종류: SINGLE, 컨쥬게이션: False, 고리 여부: False\n",
      "[7-12] 결합: 종류: AROMATIC, 컨쥬게이션: True, 고리 여부: True\n",
      "[12-13] 결합: 종류: AROMATIC, 컨쥬게이션: True, 고리 여부: True\n",
      "[1-14] 결합: 종류: SINGLE, 컨쥬게이션: True, 고리 여부: False\n",
      "[14-15] 결합: 종류: AROMATIC, 컨쥬게이션: True, 고리 여부: True\n",
      "[15-16] 결합: 종류: AROMATIC, 컨쥬게이션: True, 고리 여부: True\n",
      "[16-17] 결합: 종류: AROMATIC, 컨쥬게이션: True, 고리 여부: True\n",
      "[17-18] 결합: 종류: AROMATIC, 컨쥬게이션: True, 고리 여부: True\n",
      "[18-19] 결합: 종류: AROMATIC, 컨쥬게이션: True, 고리 여부: True\n",
      "[13-4] 결합: 종류: AROMATIC, 컨쥬게이션: True, 고리 여부: True\n",
      "[19-14] 결합: 종류: AROMATIC, 컨쥬게이션: True, 고리 여부: True\n"
     ]
    }
   ],
   "execution_count": 2
  }
 ],
 "metadata": {
  "kernelspec": {
   "display_name": "Python 3",
   "language": "python",
   "name": "python3"
  },
  "language_info": {
   "codemirror_mode": {
    "name": "ipython",
    "version": 2
   },
   "file_extension": ".py",
   "mimetype": "text/x-python",
   "name": "python",
   "nbconvert_exporter": "python",
   "pygments_lexer": "ipython2",
   "version": "2.7.6"
  }
 },
 "nbformat": 4,
 "nbformat_minor": 5
}
