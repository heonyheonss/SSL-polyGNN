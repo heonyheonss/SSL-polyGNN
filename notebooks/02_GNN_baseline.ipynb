{
 "cells": [
  {
   "metadata": {
    "ExecuteTime": {
     "end_time": "2025-09-07T15:21:57.147092Z",
     "start_time": "2025-09-07T15:21:43.556854Z"
    }
   },
   "cell_type": "code",
   "source": [
    "# In[2]: Cell 2 - 5단계 실행: GNN 데이터셋 준비\n",
    "# imputed_final_data.csv 파일을 읽어 GNN이 사용할 수 있는 그래프 데이터셋으로 변환하고 저장합니다.\n",
    "# 이 셀은 한 번만 실행하면 됩니다.\n",
    "step5.main()"
   ],
   "id": "cca37b4b3704ed72",
   "outputs": [
    {
     "name": "stdout",
     "output_type": "stream",
     "text": [
      "--- 5단계 시작: GNN 데이터셋 준비 ---\n",
      "대상 물성: ['Tg', 'FFV', 'Tc', 'Density', 'Rg']\n",
      "물성 데이터를 정규화했습니다.\n",
      "SMILES를 그래프 데이터로 변환 중... (시간이 걸릴 수 있습니다)\n",
      "그래프 변환 완료. 총 10343개의 유효한 분자 데이터 생성.\n",
      "처리된 데이터셋과 스케일러가 'E:/SSL-polyGNN/data/processed/'에 저장되었습니다.\n",
      "\n",
      "--- 5단계 완료 ---\n",
      "처리된 데이터셋이 'E:/SSL-polyGNN/data/processed/gnn_dataset.pt'에 저장되었습니다.\n"
     ]
    }
   ],
   "execution_count": 2
  },
  {
   "metadata": {
    "ExecuteTime": {
     "end_time": "2025-09-07T16:00:05.826186Z",
     "start_time": "2025-09-07T15:22:18.479252Z"
    }
   },
   "cell_type": "code",
   "source": [
    "# In[3]: Cell 3 - 6단계 실행: GNN 모델 학습\n",
    "# 위에서 생성한 데이터셋을 불러와 K-fold 교차 검증으로 모델을 학습합니다.\n",
    "# 학습 과정(Epoch별 Loss)이 이 셀의 출력 창에 표시됩니다.\n",
    "# 학습이 완료되면 최종 성능과 함께 모델 파일이 'root/model/' 폴더에 저장됩니다.\n",
    "step6.main()"
   ],
   "id": "b4e6821c7ff13b29",
   "outputs": [
    {
     "name": "stdout",
     "output_type": "stream",
     "text": [
      "--- 6단계 시작: GNN 모델 학습 ---\n",
      "사용 장치: cuda\n",
      "\n",
      "===== Fold 1/5 =====\n",
      "Epoch 001 | Train Loss: 0.7365 | Val Loss: 0.5976\n",
      "Epoch 010 | Train Loss: 0.5007 | Val Loss: 0.3972\n",
      "Epoch 020 | Train Loss: 0.4508 | Val Loss: 0.3454\n",
      "Epoch 030 | Train Loss: 0.4410 | Val Loss: 0.3287\n",
      "Epoch 040 | Train Loss: 0.4191 | Val Loss: 0.3159\n",
      "Epoch 050 | Train Loss: 0.4091 | Val Loss: 0.3181\n",
      "Epoch 060 | Train Loss: 0.4013 | Val Loss: 0.3285\n",
      "Epoch 070 | Train Loss: 0.3975 | Val Loss: 0.3049\n",
      "Epoch 080 | Train Loss: 0.3891 | Val Loss: 0.2997\n",
      "Epoch 090 | Train Loss: 0.3798 | Val Loss: 0.2946\n",
      "Epoch 100 | Train Loss: 0.3825 | Val Loss: 0.2905\n",
      "Fold 1 최적 Val Loss: 0.2905\n",
      "\n",
      "===== Fold 2/5 =====\n",
      "Epoch 001 | Train Loss: 0.7423 | Val Loss: 0.6420\n",
      "Epoch 010 | Train Loss: 0.4835 | Val Loss: 0.4185\n",
      "Epoch 020 | Train Loss: 0.4423 | Val Loss: 0.3783\n",
      "Epoch 030 | Train Loss: 0.4227 | Val Loss: 0.3471\n",
      "Epoch 040 | Train Loss: 0.4066 | Val Loss: 0.3397\n",
      "Epoch 050 | Train Loss: 0.3929 | Val Loss: 0.3219\n",
      "Epoch 060 | Train Loss: 0.3841 | Val Loss: 0.3149\n",
      "Epoch 070 | Train Loss: 0.3781 | Val Loss: 0.3107\n",
      "Epoch 080 | Train Loss: 0.3738 | Val Loss: 0.3088\n",
      "Epoch 090 | Train Loss: 0.3709 | Val Loss: 0.3029\n",
      "Epoch 100 | Train Loss: 0.3660 | Val Loss: 0.2966\n",
      "Fold 2 최적 Val Loss: 0.2901\n",
      "\n",
      "===== Fold 3/5 =====\n",
      "Epoch 001 | Train Loss: 0.7468 | Val Loss: 0.6318\n",
      "Epoch 010 | Train Loss: 0.4796 | Val Loss: 0.4476\n",
      "Epoch 020 | Train Loss: 0.4412 | Val Loss: 0.4048\n",
      "Epoch 030 | Train Loss: 0.4257 | Val Loss: 0.3822\n",
      "Epoch 040 | Train Loss: 0.4140 | Val Loss: 0.3715\n",
      "Epoch 050 | Train Loss: 0.4019 | Val Loss: 0.3571\n",
      "Epoch 060 | Train Loss: 0.3934 | Val Loss: 0.3426\n",
      "Epoch 070 | Train Loss: 0.3839 | Val Loss: 0.3404\n",
      "Epoch 080 | Train Loss: 0.3782 | Val Loss: 0.3430\n",
      "Epoch 090 | Train Loss: 0.3754 | Val Loss: 0.3333\n",
      "Epoch 100 | Train Loss: 0.3713 | Val Loss: 0.3269\n",
      "Fold 3 최적 Val Loss: 0.3150\n",
      "\n",
      "===== Fold 4/5 =====\n",
      "Epoch 001 | Train Loss: 0.7316 | Val Loss: 0.6135\n",
      "Epoch 010 | Train Loss: 0.4938 | Val Loss: 0.4120\n",
      "Epoch 020 | Train Loss: 0.4597 | Val Loss: 0.3919\n",
      "Epoch 030 | Train Loss: 0.4325 | Val Loss: 0.3640\n",
      "Epoch 040 | Train Loss: 0.4245 | Val Loss: 0.3457\n",
      "Epoch 050 | Train Loss: 0.4181 | Val Loss: 0.3322\n",
      "Epoch 060 | Train Loss: 0.4081 | Val Loss: 0.3387\n",
      "Epoch 070 | Train Loss: 0.4005 | Val Loss: 0.3311\n",
      "Epoch 080 | Train Loss: 0.3971 | Val Loss: 0.3233\n",
      "Epoch 090 | Train Loss: 0.3925 | Val Loss: 0.3159\n",
      "Epoch 100 | Train Loss: 0.3858 | Val Loss: 0.3093\n",
      "Fold 4 최적 Val Loss: 0.2952\n",
      "\n",
      "===== Fold 5/5 =====\n",
      "Epoch 001 | Train Loss: 0.7446 | Val Loss: 0.5822\n",
      "Epoch 010 | Train Loss: 0.5040 | Val Loss: 0.4029\n",
      "Epoch 020 | Train Loss: 0.4610 | Val Loss: 0.3594\n",
      "Epoch 030 | Train Loss: 0.4464 | Val Loss: 0.3403\n",
      "Epoch 040 | Train Loss: 0.4323 | Val Loss: 0.3475\n",
      "Epoch 050 | Train Loss: 0.4284 | Val Loss: 0.3345\n",
      "Epoch 060 | Train Loss: 0.4164 | Val Loss: 0.3232\n",
      "Epoch 070 | Train Loss: 0.4076 | Val Loss: 0.3020\n",
      "Epoch 080 | Train Loss: 0.4018 | Val Loss: 0.3022\n",
      "Epoch 090 | Train Loss: 0.3970 | Val Loss: 0.3021\n",
      "Epoch 100 | Train Loss: 0.3857 | Val Loss: 0.2800\n",
      "Fold 5 최적 Val Loss: 0.2800\n",
      "\n",
      "--- 6단계 완료 ---\n",
      "K-Fold 교차 검증 결과 (MSE Loss):\n",
      "  평균: 0.2941\n",
      "  표준편차: 0.0115\n",
      "최적 모델들이 'model/' 디렉토리에 저장되었습니다.\n"
     ]
    }
   ],
   "execution_count": 3
  },
  {
   "metadata": {
    "ExecuteTime": {
     "end_time": "2025-09-07T16:12:17.039652Z",
     "start_time": "2025-09-07T16:12:15.266622Z"
    }
   },
   "cell_type": "code",
   "source": [
    "# In[4]: Cell 4 - (선택 사항) 학습된 모델로 예측해보기\n",
    "import torch\n",
    "import pandas as pd\n",
    "\n",
    "# myutility 폴더 경로 추가\n",
    "myutility_path = os.path.abspath(os.path.join(os.getcwd(), '..', 'myutility'))\n",
    "if myutility_path not in sys.path:\n",
    "    sys.path.append(myutility_path)\n",
    "\n",
    "import gnn_utils as gu\n",
    "\n",
    "# --- 설정 ---\n",
    "device = torch.device('cuda' if torch.cuda.is_available() else 'cpu')\n",
    "# 5가지 물성 예측\n",
    "NUM_TARGETS = 5\n",
    "# 1번 Fold에서 가장 성능이 좋았던 모델을 불러옵니다.\n",
    "MODEL_PATH = '../model/best_model_fold_1.pth'\n",
    "# 테스트해볼 SMILES\n",
    "TEST_SMILES = \"CCO\" # Ethanol\n",
    "\n",
    "# --- 모델 로드 ---\n",
    "model = gu.GCNNet(in_channels=36, hidden_channels=128, out_channels=NUM_TARGETS)\n",
    "model.load_state_dict(torch.load(MODEL_PATH, map_location=device))\n",
    "model.to(device)\n",
    "model.eval()\n",
    "\n",
    "# --- 예측 ---\n",
    "# 예측을 위해서는 y값이 필요 없으므로 임의의 값을 넣어줌\n",
    "graph_data = gu.smiles_to_graph(TEST_SMILES, torch.zeros(NUM_TARGETS)).to(device)\n",
    "\n",
    "with torch.no_grad():\n",
    "    prediction = model(graph_data)\n",
    "\n",
    "print(f\"SMILES '{TEST_SMILES}'의 예측 물성값:\")\n",
    "# 원본 데이터의 물성 순서대로 출력 (예시)\n",
    "properties = ['Density', 'FFV', 'Rg', 'Tc', 'Tg']\n",
    "for name, val in zip(properties, prediction.squeeze().cpu().numpy()):\n",
    "    print(f\"  - {name}: {val:.4f}\")"
   ],
   "id": "85aa0e15707b2f07",
   "outputs": [
    {
     "name": "stdout",
     "output_type": "stream",
     "text": [
      "SMILES 'CCO'의 예측 물성값:\n",
      "  - Density: -0.8016\n",
      "  - FFV: 0.6726\n",
      "  - Rg: -0.3730\n",
      "  - Tc: -0.4515\n",
      "  - Tg: -0.9240\n"
     ]
    }
   ],
   "execution_count": 4
  },
  {
   "metadata": {
    "ExecuteTime": {
     "end_time": "2025-09-07T16:18:04.215004Z",
     "start_time": "2025-09-07T16:18:04.004733Z"
    }
   },
   "cell_type": "code",
   "source": [
    "# In[1]: Cell 1 - 필요한 모듈 및 경로 설정\n",
    "import sys\n",
    "import os\n",
    "\n",
    "# BaseLine 폴더의 경로를 추가하여 스텝별 스크립트를 import 할 수 있도록 함\n",
    "# 이 노트북 파일이 'root/notebooks/'에 있다고 가정\n",
    "workframe_path = os.path.abspath(os.path.join(os.getcwd(), '..', 'BaseLine'))\n",
    "if workframe_path not in sys.path:\n",
    "    sys.path.append(workframe_path)\n",
    "\n",
    "import run_step7_create_submission as step7\n",
    "step7.main()"
   ],
   "id": "a66edbd934f55c81",
   "outputs": [
    {
     "name": "stdout",
     "output_type": "stream",
     "text": [
      "--- 7단계 시작: 최종 제출 파일 생성 ---\n",
      "사용 장치: cuda\n",
      "성공적으로 5개의 모델을 불러왔습니다.\n"
     ]
    },
    {
     "name": "stderr",
     "output_type": "stream",
     "text": [
      "Predicting: 100%|██████████| 3/3 [00:00<00:00, 25.93it/s]"
     ]
    },
    {
     "name": "stdout",
     "output_type": "stream",
     "text": [
      "예측값을 원래 스케일로 복원했습니다.\n",
      "\n",
      "--- 7단계 완료 ---\n",
      "최종 제출 파일이 'submission.csv'에 성공적으로 저장되었습니다.\n",
      "Kaggle에 제출하여 성능을 확인해보세요!\n"
     ]
    },
    {
     "name": "stderr",
     "output_type": "stream",
     "text": [
      "\n"
     ]
    }
   ],
   "execution_count": 2
  },
  {
   "metadata": {
    "collapsed": true,
    "ExecuteTime": {
     "end_time": "2025-09-07T15:21:16.315041Z",
     "start_time": "2025-09-07T15:21:00.595807Z"
    }
   },
   "cell_type": "code",
   "outputs": [
    {
     "name": "stderr",
     "output_type": "stream",
     "text": [
      "E:\\pyspace\\envs\\polygnn\\Lib\\site-packages\\torch_geometric\\typing.py:68: UserWarning: An issue occurred while importing 'pyg-lib'. Disabling its usage. Stacktrace: [WinError 127] 지정된 프로시저를 찾을 수 없습니다\n",
      "  warnings.warn(f\"An issue occurred while importing 'pyg-lib'. \"\n",
      "E:\\pyspace\\envs\\polygnn\\Lib\\site-packages\\torch_geometric\\typing.py:86: UserWarning: An issue occurred while importing 'torch-scatter'. Disabling its usage. Stacktrace: [WinError 127] 지정된 프로시저를 찾을 수 없습니다\n",
      "  warnings.warn(f\"An issue occurred while importing 'torch-scatter'. \"\n",
      "E:\\pyspace\\envs\\polygnn\\Lib\\site-packages\\torch_geometric\\typing.py:97: UserWarning: An issue occurred while importing 'torch-cluster'. Disabling its usage. Stacktrace: [WinError 127] 지정된 프로시저를 찾을 수 없습니다\n",
      "  warnings.warn(f\"An issue occurred while importing 'torch-cluster'. \"\n",
      "E:\\pyspace\\envs\\polygnn\\Lib\\site-packages\\torch_geometric\\typing.py:113: UserWarning: An issue occurred while importing 'torch-spline-conv'. Disabling its usage. Stacktrace: [WinError 127] 지정된 프로시저를 찾을 수 없습니다\n",
      "  warnings.warn(\n",
      "E:\\pyspace\\envs\\polygnn\\Lib\\site-packages\\torch_geometric\\typing.py:124: UserWarning: An issue occurred while importing 'torch-sparse'. Disabling its usage. Stacktrace: [WinError 127] 지정된 프로시저를 찾을 수 없습니다\n",
      "  warnings.warn(f\"An issue occurred while importing 'torch-sparse'. \"\n"
     ]
    }
   ],
   "execution_count": 1,
   "source": [
    "# In[1]: Cell 1 - 필요한 모듈 및 경로 설정\n",
    "import sys\n",
    "import os\n",
    "\n",
    "# BaseLine 폴더의 경로를 추가하여 스텝별 스크립트를 import 할 수 있도록 함\n",
    "# 이 노트북 파일이 'root/notebooks/'에 있다고 가정\n",
    "workframe_path = os.path.abspath(os.path.join(os.getcwd(), '..', 'BaseLine'))\n",
    "if workframe_path not in sys.path:\n",
    "    sys.path.append(workframe_path)\n",
    "\n",
    "import run_step5_prepare_gnn_data as step5\n",
    "import run_step6_train_gnn_model as step6"
   ],
   "id": "initial_id"
  }
 ],
 "metadata": {
  "kernelspec": {
   "display_name": "Python 3",
   "language": "python",
   "name": "python3"
  },
  "language_info": {
   "codemirror_mode": {
    "name": "ipython",
    "version": 2
   },
   "file_extension": ".py",
   "mimetype": "text/x-python",
   "name": "python",
   "nbconvert_exporter": "python",
   "pygments_lexer": "ipython2",
   "version": "2.7.6"
  }
 },
 "nbformat": 4,
 "nbformat_minor": 5
}
